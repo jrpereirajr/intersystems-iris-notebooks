{
 "cells": [
  {
   "cell_type": "markdown",
   "id": "436ea20e-5f1f-4fd7-974d-d8658e9bcca7",
   "metadata": {},
   "source": [
    "# Introduction\n",
    "\n",
    "This is a simple example on how to use InterSystems Vector Search as a vector store for embeddings extracted from PDF files containing InterSystems documentation and using OpenAI LLM model to perform RAG on it.\n",
    "\n",
    "The example is a copy of the work presented in [Alex Woodhead's article](https://community.intersystems.com/post/langchain-intersystems-pdf-documentation), with some modification."
   ]
  },
  {
   "cell_type": "markdown",
   "id": "9bac2933-0636-4ff3-a04f-d2bb5bca77ab",
   "metadata": {},
   "source": [
    "# Installation"
   ]
  },
  {
   "cell_type": "code",
   "execution_count": 1,
   "id": "879b0ea8-7678-495c-9dd3-7c28c6802166",
   "metadata": {},
   "outputs": [
    {
     "name": "stderr",
     "output_type": "stream",
     "text": [
      "\n",
      "[notice] A new release of pip is available: 23.2.1 -> 25.0.1\n",
      "[notice] To update, run: python.exe -m pip install --upgrade pip\n"
     ]
    }
   ],
   "source": [
    "!pip install -q openai langchain wget tiktoken pypdf langchain-iris"
   ]
  },
  {
   "cell_type": "markdown",
   "id": "343a4952-8767-404b-b59f-49473ceb4e15",
   "metadata": {},
   "source": [
    "# Prepare the docs"
   ]
  },
  {
   "cell_type": "code",
   "execution_count": 2,
   "id": "e864754f-2dd0-40be-ab8f-a50aeda26179",
   "metadata": {},
   "outputs": [
    {
     "name": "stdout",
     "output_type": "stream",
     "text": [
      "100% [........................................................................] 66448881 / 66448881"
     ]
    }
   ],
   "source": [
    "import glob\n",
    "import wget;\n",
    "\n",
    "url='https://docs.intersystems.com/irisforhealth20231/csp/docbook/pdfs.zip';\n",
    "wget.download(url)\n",
    "# extract docs\n",
    "import zipfile\n",
    "with zipfile.ZipFile('pdfs.zip','r') as zip_ref:\n",
    "  zip_ref.extractall('.')\n",
    "\n",
    "# get a list of files\n",
    "pdfFiles=[file for file in glob.glob(\"./pdfs/pdfs/*\")]"
   ]
  },
  {
   "cell_type": "code",
   "execution_count": 3,
   "id": "1e249205-e8c8-490b-a680-a7d6bd712be2",
   "metadata": {},
   "outputs": [],
   "source": [
    "import getpass\n",
    "import os\n",
    "from dotenv import load_dotenv\n",
    "\n",
    "load_dotenv(override=True)\n",
    "\n",
    "if not os.environ.get(\"OPENAI_API_KEY\"): \n",
    "    os.environ[\"OPENAI_API_KEY\"] = getpass.getpass(\"OpenAI API Key:\")"
   ]
  },
  {
   "cell_type": "markdown",
   "id": "7c535687-43b6-4255-afa5-0d8495d30ae8",
   "metadata": {},
   "source": [
    "# Load docs into Vector Store"
   ]
  },
  {
   "cell_type": "code",
   "execution_count": 4,
   "id": "405a659a-986e-4201-99bc-4e06d79395c5",
   "metadata": {},
   "outputs": [
    {
     "name": "stderr",
     "output_type": "stream",
     "text": [
      "C:\\Users\\jrper\\AppData\\Local\\Temp\\ipykernel_23348\\3642639447.py:36: LangChainDeprecationWarning: The class `OpenAIEmbeddings` was deprecated in LangChain 0.0.9 and will be removed in 1.0. An updated version of the class exists in the :class:`~langchain-openai package and should be used instead. To use it run `pip install -U :class:`~langchain-openai` and import as `from :class:`~langchain_openai import OpenAIEmbeddings``.\n",
      "  embeddings = OpenAIEmbeddings()\n"
     ]
    }
   ],
   "source": [
    "from langchain.embeddings import OpenAIEmbeddings\n",
    "from langchain.document_loaders import PyPDFLoader\n",
    "from langchain.embeddings.openai import OpenAIEmbeddings\n",
    "from langchain.text_splitter import CharacterTextSplitter\n",
    "from langchain.prompts.prompt import PromptTemplate\n",
    "from langchain import OpenAI\n",
    "from langchain.chains import LLMChain\n",
    "from langchain_iris import IRISVector\n",
    "\n",
    "# Extract text from PDF files\n",
    "documentsAll=[]\n",
    "pdfFiles=[file for file in glob.glob(\"./pdfs/pdfs/*\")]\n",
    "for file_name in pdfFiles:\n",
    "  loader = PyPDFLoader(file_name)\n",
    "  pages = loader.load_and_split()\n",
    "  # Strip unwanted padding\n",
    "  for page in pages:\n",
    "    page.page_content=(\"\".join((page.page_content.split('\\xa0'))))\n",
    "  documents = CharacterTextSplitter().split_documents(pages)\n",
    "  # Ignore the cover pages\n",
    "  for document in documents[2:]:\n",
    "    documentsAll.append(document)\n",
    "\n",
    "# IRIS connection\n",
    "username = 'demo'\n",
    "password = 'demo' \n",
    "hostname = os.getenv('IRIS_HOSTNAME', 'localhost')\n",
    "port = '1972' \n",
    "namespace = 'USER'\n",
    "CONNECTION_STRING = f\"iris://{username}:{password}@{hostname}:{port}/{namespace}\"\n",
    "\n",
    "# Under the hood, this becomes a SQL table.\n",
    "COLLECTION_NAME = \"intersystems_doc\"\n",
    "\n",
    "# This will take couple of minutes to complete\n",
    "embeddings = OpenAIEmbeddings()\n",
    "db = IRISVector.from_documents(\n",
    "    embedding=embeddings,\n",
    "    documents=documentsAll,\n",
    "    collection_name=COLLECTION_NAME,\n",
    "    connection_string=CONNECTION_STRING,\n",
    ")"
   ]
  },
  {
   "cell_type": "markdown",
   "id": "cd7c4ad6-96fb-4802-9df6-75ac63629492",
   "metadata": {},
   "source": [
    "# Prep the search template"
   ]
  },
  {
   "cell_type": "code",
   "execution_count": 5,
   "id": "b948899c-95bd-4bc0-864f-564a17d121da",
   "metadata": {},
   "outputs": [
    {
     "name": "stderr",
     "output_type": "stream",
     "text": [
      "C:\\Users\\jrper\\AppData\\Local\\Temp\\ipykernel_23348\\1111116790.py:11: LangChainDeprecationWarning: The class `OpenAI` was deprecated in LangChain 0.0.10 and will be removed in 1.0. An updated version of the class exists in the :class:`~langchain-openai package and should be used instead. To use it run `pip install -U :class:`~langchain-openai` and import as `from :class:`~langchain_openai import OpenAI``.\n",
      "  llm = OpenAI(temperature=0, verbose=True)\n",
      "C:\\Users\\jrper\\AppData\\Local\\Temp\\ipykernel_23348\\1111116790.py:13: LangChainDeprecationWarning: The class `LLMChain` was deprecated in LangChain 0.1.17 and will be removed in 1.0. Use :meth:`~RunnableSequence, e.g., `prompt | llm`` instead.\n",
      "  chain = LLMChain(llm=llm, prompt=PROMPT)\n"
     ]
    }
   ],
   "source": [
    "_GetDocWords_TEMPLATE = \"\"\"Answer the Question: {question}\n",
    "\n",
    "By considering the following documents:\n",
    "{docs}\n",
    "\"\"\"\n",
    "\n",
    "PROMPT = PromptTemplate(\n",
    "     input_variables=[\"docs\",\"question\"], template=_GetDocWords_TEMPLATE\n",
    ")\n",
    "\n",
    "llm = OpenAI(temperature=0, verbose=True)\n",
    "\n",
    "chain = LLMChain(llm=llm, prompt=PROMPT)"
   ]
  },
  {
   "cell_type": "markdown",
   "id": "b53f58bd-6e10-4d19-98c5-afe5ada39c26",
   "metadata": {},
   "source": [
    "# Lets talk with the documentation"
   ]
  },
  {
   "cell_type": "code",
   "execution_count": 6,
   "id": "e46bae1c-ba40-4436-8f21-e218870d58c2",
   "metadata": {},
   "outputs": [
    {
     "name": "stderr",
     "output_type": "stream",
     "text": [
      "C:\\Users\\jrper\\AppData\\Local\\Temp\\ipykernel_23348\\2336276455.py:4: LangChainDeprecationWarning: The method `Chain.run` was deprecated in langchain 0.1.0 and will be removed in 1.0. Use :meth:`~invoke` instead.\n",
      "  answer = chain.run(docs=docs[:2],question=query)\n"
     ]
    },
    {
     "name": "stdout",
     "output_type": "stream",
     "text": [
      "> What is Adaptive Analytics?\n",
      ">\n",
      "Adaptive Analytics is an optional extension for InterSystems IRIS that provides a business-oriented, virtual data model layer between InterSystems IRIS and popular Business Intelligence (BI) and Artificial Intelligence (AI) client tools. It allows for the development of a centralized common data model, making it easier for enterprises to provide their end users with a consistent view of business metrics and data characterization. Adaptive Analytics includes features such as a modeler for making data accessible to business users, publication of data model changes as virtual cubes, and unified access to an online analytical processing (OLAP) model. It is powered by AtScale and requires the installation or upgrade of an instance of AtScale to integrate with InterSystems IRIS.\n"
     ]
    }
   ],
   "source": [
    "query = \"What is Adaptive Analytics?\"\n",
    "docs = db.similarity_search(query)\n",
    "# Only using the first two documents to reduce token search size on openai\n",
    "answer = chain.run(docs=docs[:2],question=query)\n",
    "print(f\"> {query}\\n>{answer}\")"
   ]
  },
  {
   "cell_type": "code",
   "execution_count": 7,
   "id": "cf4efd1b-cb83-4e33-8233-8b6155e4754f",
   "metadata": {},
   "outputs": [
    {
     "name": "stdout",
     "output_type": "stream",
     "text": [
      "> Can I use pre build InterSystems BI cubes with Adaptive Analytics?\n",
      ">\n",
      "Yes, you can use pre-built InterSystems BI cubes with Adaptive Analytics. The process for importing these cubes is outlined in the document \"Integrating Adaptive Analytics with InterSystems Reports\". However, there may be some incompatibilities between the structure of the exported .json file and Adaptive Analytics' expected data model, so it is recommended to manually review and adjust any calculated measures and drill-throughs to ensure compliance. Additionally, cubes based on data connectors and cube relationships may not export in this process.\n"
     ]
    }
   ],
   "source": [
    "query = \"Can I use pre build InterSystems BI cubes with Adaptive Analytics?\"\n",
    "docs = db.similarity_search(query)\n",
    "# Only using the first two documents to reduce token search size on openai\n",
    "answer = chain.run(docs=docs[:2],question=query)\n",
    "print(f\"> {query}\\n>{answer}\")"
   ]
  },
  {
   "cell_type": "markdown",
   "id": "e6302e70-9e91-48b6-b24c-de9882d3e95c",
   "metadata": {},
   "source": [
    "# References\n",
    "\n",
    "https://community.intersystems.com/post/langchain-intersystems-pdf-documentation\n",
    "\n",
    "https://github.com/intersystems-community/hackathon-2024/blob/main/demo/langchain_demo.ipynb"
   ]
  }
 ],
 "metadata": {
  "kernelspec": {
   "display_name": "Python 3 (ipykernel)",
   "language": "python",
   "name": "python3"
  },
  "language_info": {
   "codemirror_mode": {
    "name": "ipython",
    "version": 3
   },
   "file_extension": ".py",
   "mimetype": "text/x-python",
   "name": "python",
   "nbconvert_exporter": "python",
   "pygments_lexer": "ipython3",
   "version": "3.11.5"
  }
 },
 "nbformat": 4,
 "nbformat_minor": 5
}
