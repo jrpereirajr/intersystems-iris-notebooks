{
 "cells": [
  {
   "cell_type": "markdown",
   "id": "6062c069-1d23-449a-99d6-083cf8f0c0b8",
   "metadata": {},
   "source": [
    "# NLP Queries on YouTube Audio Transcription Dataset\n",
    "\n",
    "This Jupyter Notebook demonstrates how to use `langchain-iris` for performing Natural Language Processing (NLP) queries on a YouTube audio transcription dataset. The notebook covers data loading, preprocessing, connecting to the vector database, and executing queries to find similarities. The results include scores, document content, and associated metadata, along with the option to display top-matching YouTube videos based on the queries.\n",
    "\n",
    "This notebook was inspired in [this one](https://github.com/lancedb/lancedb/blob/main/docs/src/notebooks/youtube_transcript_search.ipynb) and adapted to use `langchain-iris`. A demo usage, where this notebook had inspiration as well, of `langchain-iris` could be found [here](https://github.com/caretdev/langchain-iris/blob/main/demo.ipynb).\n",
    "\n",
    "The dataset with YT audio transcription owner and details about it can be found [here](https://huggingface.co/datasets/jamescalam/youtube-transcriptions).\n"
   ]
  },
  {
   "cell_type": "markdown",
   "id": "bb8d5352-2b5b-4273-9697-898613442f7c",
   "metadata": {},
   "source": [
    "## Install dependencies"
   ]
  },
  {
   "cell_type": "code",
   "execution_count": 58,
   "id": "65a2b533-a14c-4c5c-bb8e-c61b3d50dfb6",
   "metadata": {},
   "outputs": [
    {
     "name": "stderr",
     "output_type": "stream",
     "text": [
      "huggingface/tokenizers: The current process just got forked, after parallelism has already been used. Disabling parallelism to avoid deadlocks...\n",
      "To disable this warning, you can either:\n",
      "\t- Avoid using `tokenizers` before the fork if possible\n",
      "\t- Explicitly set the environment variable TOKENIZERS_PARALLELISM=(true | false)\n"
     ]
    },
    {
     "name": "stdout",
     "output_type": "stream",
     "text": [
      "Requirement already satisfied: langchain-iris in /opt/homebrew/lib/python3.10/site-packages (0.1.0)\n",
      "Requirement already satisfied: langchain==0.0.348 in /opt/homebrew/lib/python3.10/site-packages (from langchain-iris) (0.0.348)\n",
      "Requirement already satisfied: sqlalchemy-iris>=0.13.0 in /opt/homebrew/lib/python3.10/site-packages (from langchain-iris) (0.13.0)\n",
      "Requirement already satisfied: pydantic<3,>=1 in /opt/homebrew/lib/python3.10/site-packages (from langchain==0.0.348->langchain-iris) (2.6.1)\n",
      "Requirement already satisfied: PyYAML>=5.3 in /opt/homebrew/lib/python3.10/site-packages (from langchain==0.0.348->langchain-iris) (6.0.1)\n",
      "Requirement already satisfied: SQLAlchemy<3,>=1.4 in /opt/homebrew/lib/python3.10/site-packages (from langchain==0.0.348->langchain-iris) (2.0.27)\n",
      "Requirement already satisfied: langchain-core<0.1,>=0.0.12 in /opt/homebrew/lib/python3.10/site-packages (from langchain==0.0.348->langchain-iris) (0.0.13)\n",
      "Requirement already satisfied: requests<3,>=2 in /opt/homebrew/lib/python3.10/site-packages (from langchain==0.0.348->langchain-iris) (2.31.0)\n",
      "Requirement already satisfied: langsmith<0.1.0,>=0.0.63 in /opt/homebrew/lib/python3.10/site-packages (from langchain==0.0.348->langchain-iris) (0.0.92)\n",
      "Requirement already satisfied: aiohttp<4.0.0,>=3.8.3 in /opt/homebrew/lib/python3.10/site-packages (from langchain==0.0.348->langchain-iris) (3.9.3)\n",
      "Requirement already satisfied: numpy<2,>=1 in /opt/homebrew/lib/python3.10/site-packages (from langchain==0.0.348->langchain-iris) (1.26.4)\n",
      "Requirement already satisfied: jsonpatch<2.0,>=1.33 in /opt/homebrew/lib/python3.10/site-packages (from langchain==0.0.348->langchain-iris) (1.33)\n",
      "Requirement already satisfied: async-timeout<5.0.0,>=4.0.0 in /opt/homebrew/lib/python3.10/site-packages (from langchain==0.0.348->langchain-iris) (4.0.3)\n",
      "Requirement already satisfied: tenacity<9.0.0,>=8.1.0 in /opt/homebrew/lib/python3.10/site-packages (from langchain==0.0.348->langchain-iris) (8.2.3)\n",
      "Requirement already satisfied: dataclasses-json<0.7,>=0.5.7 in /opt/homebrew/lib/python3.10/site-packages (from langchain==0.0.348->langchain-iris) (0.6.4)\n",
      "Requirement already satisfied: multidict<7.0,>=4.5 in /opt/homebrew/lib/python3.10/site-packages (from aiohttp<4.0.0,>=3.8.3->langchain==0.0.348->langchain-iris) (6.0.5)\n",
      "Requirement already satisfied: yarl<2.0,>=1.0 in /opt/homebrew/lib/python3.10/site-packages (from aiohttp<4.0.0,>=3.8.3->langchain==0.0.348->langchain-iris) (1.9.4)\n",
      "Requirement already satisfied: aiosignal>=1.1.2 in /opt/homebrew/lib/python3.10/site-packages (from aiohttp<4.0.0,>=3.8.3->langchain==0.0.348->langchain-iris) (1.3.1)\n",
      "Requirement already satisfied: frozenlist>=1.1.1 in /opt/homebrew/lib/python3.10/site-packages (from aiohttp<4.0.0,>=3.8.3->langchain==0.0.348->langchain-iris) (1.4.1)\n",
      "Requirement already satisfied: attrs>=17.3.0 in /opt/homebrew/lib/python3.10/site-packages (from aiohttp<4.0.0,>=3.8.3->langchain==0.0.348->langchain-iris) (23.2.0)\n",
      "Requirement already satisfied: marshmallow<4.0.0,>=3.18.0 in /opt/homebrew/lib/python3.10/site-packages (from dataclasses-json<0.7,>=0.5.7->langchain==0.0.348->langchain-iris) (3.20.2)\n",
      "Requirement already satisfied: typing-inspect<1,>=0.4.0 in /opt/homebrew/lib/python3.10/site-packages (from dataclasses-json<0.7,>=0.5.7->langchain==0.0.348->langchain-iris) (0.9.0)\n",
      "Requirement already satisfied: jsonpointer>=1.9 in /opt/homebrew/lib/python3.10/site-packages (from jsonpatch<2.0,>=1.33->langchain==0.0.348->langchain-iris) (2.4)\n",
      "Requirement already satisfied: anyio<5,>=3 in /opt/homebrew/lib/python3.10/site-packages (from langchain-core<0.1,>=0.0.12->langchain==0.0.348->langchain-iris) (4.2.0)\n",
      "Requirement already satisfied: packaging<24.0,>=23.2 in /opt/homebrew/lib/python3.10/site-packages (from langchain-core<0.1,>=0.0.12->langchain==0.0.348->langchain-iris) (23.2)\n",
      "Requirement already satisfied: typing-extensions>=4.6.1 in /opt/homebrew/lib/python3.10/site-packages (from pydantic<3,>=1->langchain==0.0.348->langchain-iris) (4.9.0)\n",
      "Requirement already satisfied: annotated-types>=0.4.0 in /opt/homebrew/lib/python3.10/site-packages (from pydantic<3,>=1->langchain==0.0.348->langchain-iris) (0.6.0)\n",
      "Requirement already satisfied: pydantic-core==2.16.2 in /opt/homebrew/lib/python3.10/site-packages (from pydantic<3,>=1->langchain==0.0.348->langchain-iris) (2.16.2)\n",
      "Requirement already satisfied: charset-normalizer<4,>=2 in /opt/homebrew/lib/python3.10/site-packages (from requests<3,>=2->langchain==0.0.348->langchain-iris) (3.3.2)\n",
      "Requirement already satisfied: idna<4,>=2.5 in /opt/homebrew/lib/python3.10/site-packages (from requests<3,>=2->langchain==0.0.348->langchain-iris) (3.6)\n",
      "Requirement already satisfied: certifi>=2017.4.17 in /opt/homebrew/lib/python3.10/site-packages (from requests<3,>=2->langchain==0.0.348->langchain-iris) (2024.2.2)\n",
      "Requirement already satisfied: urllib3<3,>=1.21.1 in /opt/homebrew/lib/python3.10/site-packages (from requests<3,>=2->langchain==0.0.348->langchain-iris) (2.2.0)\n",
      "Requirement already satisfied: exceptiongroup>=1.0.2 in /opt/homebrew/lib/python3.10/site-packages (from anyio<5,>=3->langchain-core<0.1,>=0.0.12->langchain==0.0.348->langchain-iris) (1.2.0)\n",
      "Requirement already satisfied: sniffio>=1.1 in /opt/homebrew/lib/python3.10/site-packages (from anyio<5,>=3->langchain-core<0.1,>=0.0.12->langchain==0.0.348->langchain-iris) (1.3.0)\n",
      "Requirement already satisfied: mypy-extensions>=0.3.0 in /opt/homebrew/lib/python3.10/site-packages (from typing-inspect<1,>=0.4.0->dataclasses-json<0.7,>=0.5.7->langchain==0.0.348->langchain-iris) (1.0.0)\n",
      "\n",
      "\u001b[1m[\u001b[0m\u001b[34;49mnotice\u001b[0m\u001b[1;39;49m]\u001b[0m\u001b[39;49m A new release of pip is available: \u001b[0m\u001b[31;49m23.0\u001b[0m\u001b[39;49m -> \u001b[0m\u001b[32;49m24.0\u001b[0m\n",
      "\u001b[1m[\u001b[0m\u001b[34;49mnotice\u001b[0m\u001b[1;39;49m]\u001b[0m\u001b[39;49m To update, run: \u001b[0m\u001b[32;49mpython3.10 -m pip install --upgrade pip\u001b[0m\n",
      "Note: you may need to restart the kernel to use updated packages.\n"
     ]
    }
   ],
   "source": [
    "%%capture\n",
    "%pip install langchain-iris\n"
   ]
  },
  {
   "cell_type": "code",
   "execution_count": 61,
   "id": "5ee3e05e-1d9a-4efe-8439-f898d878496e",
   "metadata": {},
   "outputs": [
    {
     "name": "stderr",
     "output_type": "stream",
     "text": [
      "huggingface/tokenizers: The current process just got forked, after parallelism has already been used. Disabling parallelism to avoid deadlocks...\n",
      "To disable this warning, you can either:\n",
      "\t- Avoid using `tokenizers` before the fork if possible\n",
      "\t- Explicitly set the environment variable TOKENIZERS_PARALLELISM=(true | false)\n"
     ]
    },
    {
     "name": "stdout",
     "output_type": "stream",
     "text": [
      "Requirement already satisfied: fastembed in /opt/homebrew/lib/python3.10/site-packages (0.2.1)\n",
      "Requirement already satisfied: openai in /opt/homebrew/lib/python3.10/site-packages (1.12.0)\n",
      "Requirement already satisfied: tiktoken in /opt/homebrew/lib/python3.10/site-packages (0.6.0)\n",
      "Requirement already satisfied: python-dotenv in /opt/homebrew/lib/python3.10/site-packages (1.0.1)\n",
      "Requirement already satisfied: datasets in /opt/homebrew/lib/python3.10/site-packages (2.17.0)\n",
      "Requirement already satisfied: ipywidgets in /opt/homebrew/lib/python3.10/site-packages (8.1.2)\n",
      "Requirement already satisfied: jinja2 in /opt/homebrew/lib/python3.10/site-packages (3.1.3)\n",
      "Collecting testcontainers-iris\n",
      "  Using cached testcontainers_iris-1.1.0-py3-none-any.whl (4.7 kB)\n",
      "Requirement already satisfied: onnx<2.0.0,>=1.15.0 in /opt/homebrew/lib/python3.10/site-packages (from fastembed) (1.15.0)\n",
      "Requirement already satisfied: requests<3.0,>=2.31 in /opt/homebrew/lib/python3.10/site-packages (from fastembed) (2.31.0)\n",
      "Requirement already satisfied: tqdm<5.0,>=4.66 in /opt/homebrew/lib/python3.10/site-packages (from fastembed) (4.66.2)\n",
      "Requirement already satisfied: tokenizers<0.16.0,>=0.15.1 in /opt/homebrew/lib/python3.10/site-packages (from fastembed) (0.15.2)\n",
      "Requirement already satisfied: onnxruntime<2.0.0,>=1.17.0 in /opt/homebrew/lib/python3.10/site-packages (from fastembed) (1.17.0)\n",
      "Requirement already satisfied: numpy>=1.21 in /opt/homebrew/lib/python3.10/site-packages (from fastembed) (1.26.4)\n",
      "Requirement already satisfied: huggingface-hub<0.21,>=0.20 in /opt/homebrew/lib/python3.10/site-packages (from fastembed) (0.20.3)\n",
      "Requirement already satisfied: loguru<0.8.0,>=0.7.2 in /opt/homebrew/lib/python3.10/site-packages (from fastembed) (0.7.2)\n",
      "Requirement already satisfied: anyio<5,>=3.5.0 in /opt/homebrew/lib/python3.10/site-packages (from openai) (4.2.0)\n",
      "Requirement already satisfied: sniffio in /opt/homebrew/lib/python3.10/site-packages (from openai) (1.3.0)\n",
      "Requirement already satisfied: httpx<1,>=0.23.0 in /opt/homebrew/lib/python3.10/site-packages (from openai) (0.26.0)\n",
      "Requirement already satisfied: typing-extensions<5,>=4.7 in /opt/homebrew/lib/python3.10/site-packages (from openai) (4.9.0)\n",
      "Requirement already satisfied: pydantic<3,>=1.9.0 in /opt/homebrew/lib/python3.10/site-packages (from openai) (2.6.1)\n",
      "Requirement already satisfied: distro<2,>=1.7.0 in /opt/homebrew/lib/python3.10/site-packages (from openai) (1.9.0)\n",
      "Requirement already satisfied: regex>=2022.1.18 in /opt/homebrew/lib/python3.10/site-packages (from tiktoken) (2023.12.25)\n",
      "Requirement already satisfied: pyyaml>=5.1 in /opt/homebrew/lib/python3.10/site-packages (from datasets) (6.0.1)\n",
      "Requirement already satisfied: pyarrow-hotfix in /opt/homebrew/lib/python3.10/site-packages (from datasets) (0.6)\n",
      "Requirement already satisfied: filelock in /opt/homebrew/lib/python3.10/site-packages (from datasets) (3.13.1)\n",
      "Requirement already satisfied: xxhash in /opt/homebrew/lib/python3.10/site-packages (from datasets) (3.4.1)\n",
      "Requirement already satisfied: multiprocess in /opt/homebrew/lib/python3.10/site-packages (from datasets) (0.70.16)\n",
      "Requirement already satisfied: pyarrow>=12.0.0 in /opt/homebrew/lib/python3.10/site-packages (from datasets) (15.0.0)\n",
      "Requirement already satisfied: dill<0.3.9,>=0.3.0 in /opt/homebrew/lib/python3.10/site-packages (from datasets) (0.3.8)\n",
      "Requirement already satisfied: pandas in /opt/homebrew/lib/python3.10/site-packages (from datasets) (2.2.0)\n",
      "Requirement already satisfied: packaging in /opt/homebrew/lib/python3.10/site-packages (from datasets) (23.2)\n",
      "Requirement already satisfied: fsspec[http]<=2023.10.0,>=2023.1.0 in /opt/homebrew/lib/python3.10/site-packages (from datasets) (2023.10.0)\n",
      "Requirement already satisfied: aiohttp in /opt/homebrew/lib/python3.10/site-packages (from datasets) (3.9.3)\n",
      "Requirement already satisfied: jupyterlab-widgets~=3.0.10 in /opt/homebrew/lib/python3.10/site-packages (from ipywidgets) (3.0.10)\n",
      "Requirement already satisfied: widgetsnbextension~=4.0.10 in /opt/homebrew/lib/python3.10/site-packages (from ipywidgets) (4.0.10)\n",
      "Requirement already satisfied: ipython>=6.1.0 in /Users/eshvarov/Library/Python/3.10/lib/python/site-packages (from ipywidgets) (8.13.1)\n",
      "Requirement already satisfied: traitlets>=4.3.1 in /Users/eshvarov/Library/Python/3.10/lib/python/site-packages (from ipywidgets) (5.9.0)\n",
      "Requirement already satisfied: comm>=0.1.3 in /Users/eshvarov/Library/Python/3.10/lib/python/site-packages (from ipywidgets) (0.1.3)\n",
      "Requirement already satisfied: MarkupSafe>=2.0 in /opt/homebrew/lib/python3.10/site-packages (from jinja2) (2.1.5)\n",
      "Requirement already satisfied: sqlalchemy in /opt/homebrew/lib/python3.10/site-packages (from testcontainers-iris) (2.0.27)\n",
      "Collecting testcontainers-core\n",
      "  Using cached testcontainers_core-0.0.1rc1-py3-none-any.whl (11 kB)\n",
      "Requirement already satisfied: sqlalchemy-iris in /opt/homebrew/lib/python3.10/site-packages (from testcontainers-iris) (0.13.0)\n",
      "Requirement already satisfied: idna>=2.8 in /opt/homebrew/lib/python3.10/site-packages (from anyio<5,>=3.5.0->openai) (3.6)\n",
      "Requirement already satisfied: exceptiongroup>=1.0.2 in /opt/homebrew/lib/python3.10/site-packages (from anyio<5,>=3.5.0->openai) (1.2.0)\n",
      "Requirement already satisfied: multidict<7.0,>=4.5 in /opt/homebrew/lib/python3.10/site-packages (from aiohttp->datasets) (6.0.5)\n",
      "Requirement already satisfied: yarl<2.0,>=1.0 in /opt/homebrew/lib/python3.10/site-packages (from aiohttp->datasets) (1.9.4)\n",
      "Requirement already satisfied: async-timeout<5.0,>=4.0 in /opt/homebrew/lib/python3.10/site-packages (from aiohttp->datasets) (4.0.3)\n",
      "Requirement already satisfied: attrs>=17.3.0 in /opt/homebrew/lib/python3.10/site-packages (from aiohttp->datasets) (23.2.0)\n",
      "Requirement already satisfied: aiosignal>=1.1.2 in /opt/homebrew/lib/python3.10/site-packages (from aiohttp->datasets) (1.3.1)\n",
      "Requirement already satisfied: frozenlist>=1.1.1 in /opt/homebrew/lib/python3.10/site-packages (from aiohttp->datasets) (1.4.1)\n",
      "Requirement already satisfied: certifi in /opt/homebrew/lib/python3.10/site-packages (from httpx<1,>=0.23.0->openai) (2024.2.2)\n",
      "Requirement already satisfied: httpcore==1.* in /opt/homebrew/lib/python3.10/site-packages (from httpx<1,>=0.23.0->openai) (1.0.3)\n",
      "Requirement already satisfied: h11<0.15,>=0.13 in /opt/homebrew/lib/python3.10/site-packages (from httpcore==1.*->httpx<1,>=0.23.0->openai) (0.14.0)\n",
      "Requirement already satisfied: pexpect>4.3 in /Users/eshvarov/Library/Python/3.10/lib/python/site-packages (from ipython>=6.1.0->ipywidgets) (4.8.0)\n",
      "Requirement already satisfied: pickleshare in /Users/eshvarov/Library/Python/3.10/lib/python/site-packages (from ipython>=6.1.0->ipywidgets) (0.7.5)\n",
      "Requirement already satisfied: pygments>=2.4.0 in /opt/homebrew/Cellar/pygments/2.14.0/libexec/lib/python3.10/site-packages (from ipython>=6.1.0->ipywidgets) (2.14.0)\n",
      "Requirement already satisfied: stack-data in /Users/eshvarov/Library/Python/3.10/lib/python/site-packages (from ipython>=6.1.0->ipywidgets) (0.6.2)\n",
      "Requirement already satisfied: prompt-toolkit!=3.0.37,<3.1.0,>=3.0.30 in /Users/eshvarov/Library/Python/3.10/lib/python/site-packages (from ipython>=6.1.0->ipywidgets) (3.0.38)\n",
      "Requirement already satisfied: backcall in /Users/eshvarov/Library/Python/3.10/lib/python/site-packages (from ipython>=6.1.0->ipywidgets) (0.2.0)\n",
      "Requirement already satisfied: matplotlib-inline in /Users/eshvarov/Library/Python/3.10/lib/python/site-packages (from ipython>=6.1.0->ipywidgets) (0.1.6)\n",
      "Requirement already satisfied: jedi>=0.16 in /Users/eshvarov/Library/Python/3.10/lib/python/site-packages (from ipython>=6.1.0->ipywidgets) (0.18.2)\n",
      "Requirement already satisfied: decorator in /Users/eshvarov/Library/Python/3.10/lib/python/site-packages (from ipython>=6.1.0->ipywidgets) (5.1.1)\n",
      "Requirement already satisfied: appnope in /Users/eshvarov/Library/Python/3.10/lib/python/site-packages (from ipython>=6.1.0->ipywidgets) (0.1.3)\n",
      "Requirement already satisfied: protobuf>=3.20.2 in /opt/homebrew/lib/python3.10/site-packages (from onnx<2.0.0,>=1.15.0->fastembed) (4.25.2)\n",
      "Requirement already satisfied: coloredlogs in /opt/homebrew/lib/python3.10/site-packages (from onnxruntime<2.0.0,>=1.17.0->fastembed) (15.0.1)\n",
      "Requirement already satisfied: flatbuffers in /opt/homebrew/lib/python3.10/site-packages (from onnxruntime<2.0.0,>=1.17.0->fastembed) (23.5.26)\n",
      "Requirement already satisfied: sympy in /opt/homebrew/lib/python3.10/site-packages (from onnxruntime<2.0.0,>=1.17.0->fastembed) (1.12)\n",
      "Requirement already satisfied: pydantic-core==2.16.2 in /opt/homebrew/lib/python3.10/site-packages (from pydantic<3,>=1.9.0->openai) (2.16.2)\n",
      "Requirement already satisfied: annotated-types>=0.4.0 in /opt/homebrew/lib/python3.10/site-packages (from pydantic<3,>=1.9.0->openai) (0.6.0)\n",
      "Requirement already satisfied: urllib3<3,>=1.21.1 in /opt/homebrew/lib/python3.10/site-packages (from requests<3.0,>=2.31->fastembed) (2.2.0)\n",
      "Requirement already satisfied: charset-normalizer<4,>=2 in /opt/homebrew/lib/python3.10/site-packages (from requests<3.0,>=2.31->fastembed) (3.3.2)\n",
      "Requirement already satisfied: python-dateutil>=2.8.2 in /Users/eshvarov/Library/Python/3.10/lib/python/site-packages (from pandas->datasets) (2.8.2)\n",
      "Requirement already satisfied: tzdata>=2022.7 in /opt/homebrew/lib/python3.10/site-packages (from pandas->datasets) (2024.1)\n",
      "Requirement already satisfied: pytz>=2020.1 in /opt/homebrew/lib/python3.10/site-packages (from pandas->datasets) (2024.1)\n",
      "Requirement already satisfied: docker>=4.0.0 in /opt/homebrew/lib/python3.10/site-packages (from testcontainers-core->testcontainers-iris) (7.0.0)\n",
      "Requirement already satisfied: wrapt in /opt/homebrew/lib/python3.10/site-packages (from testcontainers-core->testcontainers-iris) (1.16.0)\n",
      "Requirement already satisfied: parso<0.9.0,>=0.8.0 in /Users/eshvarov/Library/Python/3.10/lib/python/site-packages (from jedi>=0.16->ipython>=6.1.0->ipywidgets) (0.8.3)\n",
      "Requirement already satisfied: ptyprocess>=0.5 in /Users/eshvarov/Library/Python/3.10/lib/python/site-packages (from pexpect>4.3->ipython>=6.1.0->ipywidgets) (0.7.0)\n",
      "Requirement already satisfied: wcwidth in /Users/eshvarov/Library/Python/3.10/lib/python/site-packages (from prompt-toolkit!=3.0.37,<3.1.0,>=3.0.30->ipython>=6.1.0->ipywidgets) (0.2.6)\n",
      "Requirement already satisfied: six>=1.5 in /opt/homebrew/lib/python3.10/site-packages (from python-dateutil>=2.8.2->pandas->datasets) (1.16.0)\n",
      "Requirement already satisfied: humanfriendly>=9.1 in /opt/homebrew/lib/python3.10/site-packages (from coloredlogs->onnxruntime<2.0.0,>=1.17.0->fastembed) (10.0)\n",
      "Requirement already satisfied: asttokens>=2.1.0 in /Users/eshvarov/Library/Python/3.10/lib/python/site-packages (from stack-data->ipython>=6.1.0->ipywidgets) (2.2.1)\n",
      "Requirement already satisfied: executing>=1.2.0 in /Users/eshvarov/Library/Python/3.10/lib/python/site-packages (from stack-data->ipython>=6.1.0->ipywidgets) (1.2.0)\n",
      "Requirement already satisfied: pure-eval in /Users/eshvarov/Library/Python/3.10/lib/python/site-packages (from stack-data->ipython>=6.1.0->ipywidgets) (0.2.2)\n",
      "Requirement already satisfied: mpmath>=0.19 in /opt/homebrew/lib/python3.10/site-packages (from sympy->onnxruntime<2.0.0,>=1.17.0->fastembed) (1.3.0)\n",
      "Installing collected packages: testcontainers-core, testcontainers-iris\n",
      "Successfully installed testcontainers-core-0.0.1rc1 testcontainers-iris-1.1.0\n",
      "\n",
      "\u001b[1m[\u001b[0m\u001b[34;49mnotice\u001b[0m\u001b[1;39;49m]\u001b[0m\u001b[39;49m A new release of pip is available: \u001b[0m\u001b[31;49m23.0\u001b[0m\u001b[39;49m -> \u001b[0m\u001b[32;49m24.0\u001b[0m\n",
      "\u001b[1m[\u001b[0m\u001b[34;49mnotice\u001b[0m\u001b[1;39;49m]\u001b[0m\u001b[39;49m To update, run: \u001b[0m\u001b[32;49mpython3.10 -m pip install --upgrade pip\u001b[0m\n",
      "Note: you may need to restart the kernel to use updated packages.\n"
     ]
    }
   ],
   "source": [
    "%%capture\n",
    "%pip install fastembed \\\n",
    "                openai \\\n",
    "                tiktoken \\\n",
    "                python-dotenv \\\n",
    "                datasets \\\n",
    "                ipywidgets \\\n",
    "                jinja2 \\\n",
    "                testcontainers-iris"
   ]
  },
  {
   "cell_type": "markdown",
   "id": "fa4c8699-72b2-4789-95eb-babd541d117b",
   "metadata": {},
   "source": [
    "## Import necessary libraries"
   ]
  },
  {
   "cell_type": "code",
   "execution_count": 46,
   "id": "83cea38d-a4f6-4d2d-a206-b08049ece63a",
   "metadata": {},
   "outputs": [],
   "source": [
    "from datasets import load_dataset\n",
    "\n",
    "from langchain.docstore.document import Document\n",
    "from langchain.document_loaders import DataFrameLoader\n",
    "from langchain.text_splitter import RecursiveCharacterTextSplitter\n",
    "from langchain.embeddings.openai import OpenAIEmbeddings\n",
    "from langchain.embeddings.fastembed import FastEmbedEmbeddings\n",
    "\n",
    "from langchain_iris import IRISVector, DistanceStrategy\n",
    "\n",
    "from IPython.display import YouTubeVideo"
   ]
  },
  {
   "cell_type": "markdown",
   "id": "f25434a1-e471-4f14-9a37-88b99bd2a531",
   "metadata": {},
   "source": [
    "## Load and configure embeddings extraction"
   ]
  },
  {
   "cell_type": "code",
   "execution_count": 47,
   "id": "a52ade40-f858-419c-aad0-e428b583b72a",
   "metadata": {},
   "outputs": [
    {
     "name": "stderr",
     "output_type": "stream",
     "text": [
      "Fetching 9 files: 100%|██████████| 9/9 [00:00<00:00, 79471.02it/s]\n"
     ]
    }
   ],
   "source": [
    "import os\n",
    "from dotenv import load_dotenv\n",
    "\n",
    "load_dotenv(override=True)\n",
    "\n",
    "# if you wanna use OpenAI embeddings, uncomment the next line\n",
    "# os.environ[\"OPENAI_API_KEY\"] = getpass.getpass(\"OpenAI API Key:\")\n",
    "\n",
    "if not os.environ.get(\"OPENAI_API_KEY\"):\n",
    "    embeddings = FastEmbedEmbeddings()\n",
    "else:\n",
    "    embeddings = OpenAIEmbeddings()"
   ]
  },
  {
   "cell_type": "markdown",
   "id": "c6296f0f-2708-4fa6-9e88-df873eeef659",
   "metadata": {},
   "source": [
    "## YouTube audio transcription dataset preprocess"
   ]
  },
  {
   "cell_type": "code",
   "execution_count": 48,
   "id": "ef4d644b-872b-49de-a077-74400bba0177",
   "metadata": {},
   "outputs": [
    {
     "data": {
      "text/plain": [
       "Dataset({\n",
       "    features: ['title', 'published', 'url', 'video_id', 'channel_id', 'id', 'text', 'start', 'end'],\n",
       "    num_rows: 208619\n",
       "})"
      ]
     },
     "execution_count": 48,
     "metadata": {},
     "output_type": "execute_result"
    }
   ],
   "source": [
    "# the original dataset\n",
    "data = load_dataset('jamescalam/youtube-transcriptions', split='train')\n",
    "data"
   ]
  },
  {
   "cell_type": "code",
   "execution_count": 49,
   "id": "eee4d428-3c45-4ce4-bec6-43ad04992435",
   "metadata": {},
   "outputs": [
    {
     "data": {
      "text/html": [
       "<div>\n",
       "<style scoped>\n",
       "    .dataframe tbody tr th:only-of-type {\n",
       "        vertical-align: middle;\n",
       "    }\n",
       "\n",
       "    .dataframe tbody tr th {\n",
       "        vertical-align: top;\n",
       "    }\n",
       "\n",
       "    .dataframe thead th {\n",
       "        text-align: right;\n",
       "    }\n",
       "</style>\n",
       "<table border=\"1\" class=\"dataframe\">\n",
       "  <thead>\n",
       "    <tr style=\"text-align: right;\">\n",
       "      <th></th>\n",
       "      <th>title</th>\n",
       "      <th>published</th>\n",
       "      <th>url</th>\n",
       "      <th>video_id</th>\n",
       "      <th>channel_id</th>\n",
       "      <th>id</th>\n",
       "      <th>text</th>\n",
       "      <th>start</th>\n",
       "      <th>end</th>\n",
       "    </tr>\n",
       "  </thead>\n",
       "  <tbody>\n",
       "    <tr>\n",
       "      <th>0</th>\n",
       "      <td>Training and Testing an Italian BERT - Transfo...</td>\n",
       "      <td>2021-07-06 13:00:03 UTC</td>\n",
       "      <td>https://youtu.be/35Pdoyi6ZoQ</td>\n",
       "      <td>35Pdoyi6ZoQ</td>\n",
       "      <td>UCv83tO5cePwHMt1952IVVHw</td>\n",
       "      <td>35Pdoyi6ZoQ-t0.0</td>\n",
       "      <td>Hi, welcome to the video.</td>\n",
       "      <td>0.0</td>\n",
       "      <td>9.36</td>\n",
       "    </tr>\n",
       "    <tr>\n",
       "      <th>1</th>\n",
       "      <td>Training and Testing an Italian BERT - Transfo...</td>\n",
       "      <td>2021-07-06 13:00:03 UTC</td>\n",
       "      <td>https://youtu.be/35Pdoyi6ZoQ</td>\n",
       "      <td>35Pdoyi6ZoQ</td>\n",
       "      <td>UCv83tO5cePwHMt1952IVVHw</td>\n",
       "      <td>35Pdoyi6ZoQ-t3.0</td>\n",
       "      <td>So this is the fourth video in a Transformers</td>\n",
       "      <td>3.0</td>\n",
       "      <td>11.56</td>\n",
       "    </tr>\n",
       "  </tbody>\n",
       "</table>\n",
       "</div>"
      ],
      "text/plain": [
       "                                               title                published  \\\n",
       "0  Training and Testing an Italian BERT - Transfo...  2021-07-06 13:00:03 UTC   \n",
       "1  Training and Testing an Italian BERT - Transfo...  2021-07-06 13:00:03 UTC   \n",
       "\n",
       "                            url     video_id                channel_id  \\\n",
       "0  https://youtu.be/35Pdoyi6ZoQ  35Pdoyi6ZoQ  UCv83tO5cePwHMt1952IVVHw   \n",
       "1  https://youtu.be/35Pdoyi6ZoQ  35Pdoyi6ZoQ  UCv83tO5cePwHMt1952IVVHw   \n",
       "\n",
       "                 id                                           text  start  \\\n",
       "0  35Pdoyi6ZoQ-t0.0                      Hi, welcome to the video.    0.0   \n",
       "1  35Pdoyi6ZoQ-t3.0  So this is the fourth video in a Transformers    3.0   \n",
       "\n",
       "     end  \n",
       "0   9.36  \n",
       "1  11.56  "
      ]
     },
     "execution_count": 49,
     "metadata": {},
     "output_type": "execute_result"
    }
   ],
   "source": [
    "# convert the original dataset to a pandas dataframe\n",
    "df_original = data.to_pandas()\n",
    "df_original.head(2)"
   ]
  },
  {
   "cell_type": "code",
   "execution_count": 51,
   "id": "42d7203d-3777-428e-a888-6ea1a96029d0",
   "metadata": {},
   "outputs": [
    {
     "data": {
      "text/html": [
       "<div>\n",
       "<style scoped>\n",
       "    .dataframe tbody tr th:only-of-type {\n",
       "        vertical-align: middle;\n",
       "    }\n",
       "\n",
       "    .dataframe tbody tr th {\n",
       "        vertical-align: top;\n",
       "    }\n",
       "\n",
       "    .dataframe thead th {\n",
       "        text-align: right;\n",
       "    }\n",
       "</style>\n",
       "<table border=\"1\" class=\"dataframe\">\n",
       "  <thead>\n",
       "    <tr style=\"text-align: right;\">\n",
       "      <th></th>\n",
       "      <th>video_id</th>\n",
       "      <th>title</th>\n",
       "      <th>url</th>\n",
       "      <th>text</th>\n",
       "    </tr>\n",
       "  </thead>\n",
       "  <tbody>\n",
       "    <tr>\n",
       "      <th>0</th>\n",
       "      <td>35Pdoyi6ZoQ</td>\n",
       "      <td>Training and Testing an Italian BERT - Transfo...</td>\n",
       "      <td>https://youtu.be/35Pdoyi6ZoQ</td>\n",
       "      <td>Hi, welcome to the video.\\nSo this is the four...</td>\n",
       "    </tr>\n",
       "    <tr>\n",
       "      <th>1</th>\n",
       "      <td>B7wmo_NImgM</td>\n",
       "      <td>Choosing Indexes for Similarity Search (Faiss ...</td>\n",
       "      <td>https://youtu.be/B7wmo_NImgM</td>\n",
       "      <td>Hi, welcome to the video.\\nI'm going to take y...</td>\n",
       "    </tr>\n",
       "    <tr>\n",
       "      <th>2</th>\n",
       "      <td>DFtP1THE8fE</td>\n",
       "      <td>How-to do Sentiment Analysis with Flair in Python</td>\n",
       "      <td>https://youtu.be/DFtP1THE8fE</td>\n",
       "      <td>Hi, welcome to this video on sentiment analysi...</td>\n",
       "    </tr>\n",
       "    <tr>\n",
       "      <th>3</th>\n",
       "      <td>ZIRmXkHp0-c</td>\n",
       "      <td>How to Build Custom Q&amp;A Transformer Models in ...</td>\n",
       "      <td>https://youtu.be/ZIRmXkHp0-c</td>\n",
       "      <td>Hi and welcome to the video. Today we're going...</td>\n",
       "    </tr>\n",
       "    <tr>\n",
       "      <th>4</th>\n",
       "      <td>r-zQQ16wTCA</td>\n",
       "      <td>Build NLP Pipelines with HuggingFace Datasets</td>\n",
       "      <td>https://youtu.be/r-zQQ16wTCA</td>\n",
       "      <td>Hi, welcome to this video. We're going to have...</td>\n",
       "    </tr>\n",
       "    <tr>\n",
       "      <th>5</th>\n",
       "      <td>x1lAcT3xl5M</td>\n",
       "      <td>Training BERT #4 - Train With Next Sentence Pr...</td>\n",
       "      <td>https://youtu.be/x1lAcT3xl5M</td>\n",
       "      <td>Hi and welcome to the video.\\nHere we're going...</td>\n",
       "    </tr>\n",
       "  </tbody>\n",
       "</table>\n",
       "</div>"
      ],
      "text/plain": [
       "      video_id                                              title  \\\n",
       "0  35Pdoyi6ZoQ  Training and Testing an Italian BERT - Transfo...   \n",
       "1  B7wmo_NImgM  Choosing Indexes for Similarity Search (Faiss ...   \n",
       "2  DFtP1THE8fE  How-to do Sentiment Analysis with Flair in Python   \n",
       "3  ZIRmXkHp0-c  How to Build Custom Q&A Transformer Models in ...   \n",
       "4  r-zQQ16wTCA      Build NLP Pipelines with HuggingFace Datasets   \n",
       "5  x1lAcT3xl5M  Training BERT #4 - Train With Next Sentence Pr...   \n",
       "\n",
       "                            url  \\\n",
       "0  https://youtu.be/35Pdoyi6ZoQ   \n",
       "1  https://youtu.be/B7wmo_NImgM   \n",
       "2  https://youtu.be/DFtP1THE8fE   \n",
       "3  https://youtu.be/ZIRmXkHp0-c   \n",
       "4  https://youtu.be/r-zQQ16wTCA   \n",
       "5  https://youtu.be/x1lAcT3xl5M   \n",
       "\n",
       "                                                text  \n",
       "0  Hi, welcome to the video.\\nSo this is the four...  \n",
       "1  Hi, welcome to the video.\\nI'm going to take y...  \n",
       "2  Hi, welcome to this video on sentiment analysi...  \n",
       "3  Hi and welcome to the video. Today we're going...  \n",
       "4  Hi, welcome to this video. We're going to have...  \n",
       "5  Hi and welcome to the video.\\nHere we're going...  "
      ]
     },
     "execution_count": 51,
     "metadata": {},
     "output_type": "execute_result"
    }
   ],
   "source": [
    "# manage the original dataset to a more suitable formmat\n",
    "df = df_original.head(3000)                         # retrieve the first 3000 lines\n",
    "df = df.groupby([\"video_id\"], as_index = False)     # group all audio transcription in one line\n",
    "df = df.agg({\n",
    "            \"title\": lambda x: x.iloc[0],            # add the \"title\" column with the value of the first line in the group\n",
    "            \"url\": lambda x: x.iloc[0],              # add the \"url\" column with the value of the first line in the group\n",
    "            \"text\": \"\\n\".join,                       # add the \"text\" column concatenating all lines in the group with a break line as separator\n",
    "        })\n",
    "df"
   ]
  },
  {
   "cell_type": "code",
   "execution_count": 52,
   "id": "ca546ebb-c7a2-4bbc-a872-309c574a7616",
   "metadata": {},
   "outputs": [
    {
     "data": {
      "text/html": [
       "<style type=\"text/css\">\n",
       "#T_51c91 .col0 {\n",
       "  width: 400px;\n",
       "}\n",
       "</style>\n",
       "<table id=\"T_51c91\">\n",
       "  <thead>\n",
       "    <tr>\n",
       "      <th class=\"blank level0\" >&nbsp;</th>\n",
       "      <th id=\"T_51c91_level0_col0\" class=\"col_heading level0 col0\" >title</th>\n",
       "    </tr>\n",
       "  </thead>\n",
       "  <tbody>\n",
       "    <tr>\n",
       "      <th id=\"T_51c91_level0_row0\" class=\"row_heading level0 row0\" >0</th>\n",
       "      <td id=\"T_51c91_row0_col0\" class=\"data row0 col0\" >Training and Testing an Italian BERT - Transformers From Scratch #4</td>\n",
       "    </tr>\n",
       "    <tr>\n",
       "      <th id=\"T_51c91_level0_row1\" class=\"row_heading level0 row1\" >1</th>\n",
       "      <td id=\"T_51c91_row1_col0\" class=\"data row1 col0\" >Choosing Indexes for Similarity Search (Faiss in Python)</td>\n",
       "    </tr>\n",
       "    <tr>\n",
       "      <th id=\"T_51c91_level0_row2\" class=\"row_heading level0 row2\" >2</th>\n",
       "      <td id=\"T_51c91_row2_col0\" class=\"data row2 col0\" >How-to do Sentiment Analysis with Flair in Python</td>\n",
       "    </tr>\n",
       "    <tr>\n",
       "      <th id=\"T_51c91_level0_row3\" class=\"row_heading level0 row3\" >3</th>\n",
       "      <td id=\"T_51c91_row3_col0\" class=\"data row3 col0\" >How to Build Custom Q&A Transformer Models in Python</td>\n",
       "    </tr>\n",
       "    <tr>\n",
       "      <th id=\"T_51c91_level0_row4\" class=\"row_heading level0 row4\" >4</th>\n",
       "      <td id=\"T_51c91_row4_col0\" class=\"data row4 col0\" >Build NLP Pipelines with HuggingFace Datasets</td>\n",
       "    </tr>\n",
       "    <tr>\n",
       "      <th id=\"T_51c91_level0_row5\" class=\"row_heading level0 row5\" >5</th>\n",
       "      <td id=\"T_51c91_row5_col0\" class=\"data row5 col0\" >Training BERT #4 - Train With Next Sentence Prediction (NSP)</td>\n",
       "    </tr>\n",
       "  </tbody>\n",
       "</table>\n"
      ],
      "text/plain": [
       "<pandas.io.formats.style.Styler at 0x2c162bb20>"
      ]
     },
     "execution_count": 52,
     "metadata": {},
     "output_type": "execute_result"
    }
   ],
   "source": [
    "# adjust display settings to better view of the dataset\n",
    "df[[\"title\"]].style.set_table_styles({\n",
    "    \"title\": [{\"selector\": \"\",\n",
    "           \"props\": [(\"width\", \"400px\")]}],\n",
    "}, overwrite=False)"
   ]
  },
  {
   "cell_type": "code",
   "execution_count": 53,
   "id": "32b68c4e-13ba-4a27-9847-8e6446a8b323",
   "metadata": {},
   "outputs": [],
   "source": [
    "# use the DataFrameLoader class to create a collection of Documents based on the \"text\" column within the dataframe\n",
    "loader = DataFrameLoader(df, page_content_column=\"text\")\n",
    "documents = loader.load()\n",
    "\n",
    "# use the RecursiveCharacterTextSplitter class to expand the origianl documents into chunk of about 1000 characters to improve embeddings extraction\n",
    "text_splitter = RecursiveCharacterTextSplitter(chunk_size=1000, chunk_overlap=0)\n",
    "docs = text_splitter.split_documents(documents)"
   ]
  },
  {
   "cell_type": "code",
   "execution_count": 54,
   "id": "0ebeee4a-7363-4755-a859-8b7b2b4aef2b",
   "metadata": {},
   "outputs": [
    {
     "name": "stdout",
     "output_type": "stream",
     "text": [
      "# of documents: 6, # of pages: 129\n"
     ]
    }
   ],
   "source": [
    "print(f\"# of documents: {len(documents)}, # of pages: {len(docs)}\")"
   ]
  },
  {
   "cell_type": "markdown",
   "id": "57445b5e-f051-4735-8c62-b72cb9665197",
   "metadata": {},
   "source": [
    "## Connect to the IRIS database"
   ]
  },
  {
   "cell_type": "code",
   "execution_count": 70,
   "id": "d76bd67a-6544-4090-938d-22e56018117d",
   "metadata": {},
   "outputs": [
    {
     "name": "stderr",
     "output_type": "stream",
     "text": [
      "Pulling image intersystemsdc/iris-community:2024.1-preview\n"
     ]
    },
    {
     "name": "stderr",
     "output_type": "stream",
     "text": [
      "huggingface/tokenizers: The current process just got forked, after parallelism has already been used. Disabling parallelism to avoid deadlocks...\n",
      "To disable this warning, you can either:\n",
      "\t- Avoid using `tokenizers` before the fork if possible\n",
      "\t- Explicitly set the environment variable TOKENIZERS_PARALLELISM=(true | false)\n"
     ]
    }
   ],
   "source": [
    "username = \"_system\"\n",
    "password = \"sys\"\n",
    "hostname = \"localhost\"\n",
    "port = \"1974\"\n",
    "namespace = \"user\"\n",
    "CONNECTION_STRING = f\"iris://{username}:{password}@{hostname}:{port}/{namespace}\"\n",
    "COLLECTION_NAME = \"youtube-transcriptions\"\n",
    "\n",
    "# below we run iris in container. if you don't need it comment until another comment \"docker setup finished\"\n",
    "import time\n",
    "import os\n",
    "from testcontainers.iris import IRISContainer\n",
    "\n",
    "license_key = None\n",
    "image = 'intersystemsdc/iris-community:2024.1-preview'\n",
    "# make sure docker engine is up\n",
    "container = IRISContainer(image, username=\"demo\", password=\"demo\", namespace=\"demo\", license_key=license_key)\n",
    "container.with_exposed_ports(1972, 52773)\n",
    "container.start()\n",
    "CONNECTION_STRING = container.get_connection_url(\"localhost\")\n",
    "\n",
    "time.sleep(1)\n",
    "print('Started', CONNECTION_STRING)\n",
    "# Docker setup finished\n",
    "\n",
    "db = IRISVector.from_documents(\n",
    "    embedding=embeddings,\n",
    "    documents=docs,\n",
    "    collection_name=COLLECTION_NAME,\n",
    "    connection_string=CONNECTION_STRING,\n",
    "    distance_strategy=DistanceStrategy.EUCLIDEAN, # note that we are using the Euclidean distance\n",
    "    # pre_delete_collection=True, # todo: open issue\n",
    ")"
   ]
  },
  {
   "cell_type": "markdown",
   "id": "47547285-edf7-4444-b627-ac3dff87024e",
   "metadata": {},
   "source": [
    "## Tests\n",
    "\n",
    "In this section, we illustrate the usage of `langchain-iris` to search for the most similar text stored in the IRIS database. This is achieved by leveraging embeddings extracted from the dataset and a user-provided prompt.\n",
    "\n",
    "Our approach involves selecting a video title and formulating an NLP prompt based on it, simulating a user searching for content covered by the video. This formulated prompt is then presented to `langchain-iris`, and we anticipate that the most relevant match will be the selected video.\n",
    "\n",
    "Upon execution, a set of matches is returned, each accompanied by a score. This score is intricately tied to the distance strategy employed by `langchain-iris` to compare the embeddings. In our example, using the Euclidean distance, a lower score indicates greater similarity between the results.\n",
    "\n",
    "To facilitate interpretation, we have defined functions to display the matched results and showcase the YouTube video associated with the most similar outcome. These visualizations provide a comprehensive view of the effectiveness of the NLP queries in identifying relevant content within the dataset. the matched results and showcase the YouTube video associated with the most similar outcome. These visualizations provide a comprehensive view of the effectiveness of the NLP queries in identifying relevant content within the dataset."
   ]
  },
  {
   "cell_type": "markdown",
   "id": "3a818fcf-babf-419b-91de-3c03c2867dec",
   "metadata": {},
   "source": [
    "### Functions for printing similarities and displaying YouTube videos"
   ]
  },
  {
   "cell_type": "code",
   "execution_count": 12,
   "id": "5d4a1bcd-05c2-46ef-a75f-edd0ec180a08",
   "metadata": {},
   "outputs": [],
   "source": [
    "def print_similarities(docs_with_score):\n",
    "    \"\"\" Given a langchain-iris similarity response, display its results \"\"\"\n",
    "    for doc, score in docs_with_score:\n",
    "        print(f\"Score:\\n{score}\")\n",
    "        print(f\"Document:\\n{doc.page_content}\")\n",
    "        print(f\"Metadata:\\n{doc.metadata}\")\n",
    "        print(\"-\" * 40)\n",
    "\n",
    "def display_yt_video(docs_with_score):\n",
    "    \"\"\" Given a langchain-iris similarity response, with a YouTube url in its metadata, display the video \"\"\"\n",
    "    top_match, top_score = docs_with_score[0]\n",
    "    return YouTubeVideo(top_match.metadata[\"url\"].split(\"/\")[-1])"
   ]
  },
  {
   "cell_type": "markdown",
   "id": "3b7cb9d4-8d72-4039-bfa3-5c74bcfba460",
   "metadata": {},
   "source": [
    "### Test 1: chatbot search"
   ]
  },
  {
   "cell_type": "code",
   "execution_count": 13,
   "id": "8aaa0b9b-1bd3-4ca0-8a3c-e29490acb851",
   "metadata": {},
   "outputs": [],
   "source": [
    "# we formulate this prompt based on the video title \"How to Build Custom Q&A Transformer Models in Python\"\n",
    "query = \"How to implement a chatbot?\"\n",
    "docs_with_score = db.similarity_search_with_score(query, k=4) # k is the max number of matches"
   ]
  },
  {
   "cell_type": "code",
   "execution_count": 14,
   "id": "76b1e2c5-f3f6-45f9-a8a2-6093bf681fc3",
   "metadata": {},
   "outputs": [
    {
     "name": "stdout",
     "output_type": "stream",
     "text": [
      "Score:\n",
      "0.8120699974472455\n",
      "Document:\n",
      "Hi and welcome to the video. Today we're going to go through how we can fine-tune a Q&A Transformer model.\n",
      "So for those of you that don't know, Q&A just means question answering and it's one of the biggest topics in NLP at the moment.\n",
      "There's a lot of models out there where you ask a question and it will give you an answer.\n",
      "And one of the biggest things that you need to know how to do when you are working with transformers,\n",
      "whether that's Q&A or any of the other transformer based solutions, is how to actually fine-tune those.\n",
      "So that's what we're going to be doing in this video. We're going to go through how we can fine-tune a Q&A Transformer model in Python.\n",
      "So I think it's really interesting and I think you will enjoy it a lot. So let's just go ahead and we can get started.\n",
      "Okay, so first thing we need to do is actually download our data.\n",
      "So we're going to be using the SQuAD dataset, which is the Stanford question answering dataset,\n",
      "Metadata:\n",
      "{'video_id': 'ZIRmXkHp0-c', 'title': 'How to Build Custom Q&A Transformer Models in Python', 'url': 'https://youtu.be/ZIRmXkHp0-c'}\n",
      "----------------------------------------\n",
      "Score:\n",
      "0.8120699974472455\n",
      "Document:\n",
      "Hi and welcome to the video. Today we're going to go through how we can fine-tune a Q&A Transformer model.\n",
      "So for those of you that don't know, Q&A just means question answering and it's one of the biggest topics in NLP at the moment.\n",
      "There's a lot of models out there where you ask a question and it will give you an answer.\n",
      "And one of the biggest things that you need to know how to do when you are working with transformers,\n",
      "whether that's Q&A or any of the other transformer based solutions, is how to actually fine-tune those.\n",
      "So that's what we're going to be doing in this video. We're going to go through how we can fine-tune a Q&A Transformer model in Python.\n",
      "So I think it's really interesting and I think you will enjoy it a lot. So let's just go ahead and we can get started.\n",
      "Okay, so first thing we need to do is actually download our data.\n",
      "So we're going to be using the SQuAD dataset, which is the Stanford question answering dataset,\n",
      "Metadata:\n",
      "{'video_id': 'ZIRmXkHp0-c', 'title': 'How to Build Custom Q&A Transformer Models in Python', 'url': 'https://youtu.be/ZIRmXkHp0-c'}\n",
      "----------------------------------------\n",
      "Score:\n",
      "0.8120699974472455\n",
      "Document:\n",
      "Hi and welcome to the video. Today we're going to go through how we can fine-tune a Q&A Transformer model.\n",
      "So for those of you that don't know, Q&A just means question answering and it's one of the biggest topics in NLP at the moment.\n",
      "There's a lot of models out there where you ask a question and it will give you an answer.\n",
      "And one of the biggest things that you need to know how to do when you are working with transformers,\n",
      "whether that's Q&A or any of the other transformer based solutions, is how to actually fine-tune those.\n",
      "So that's what we're going to be doing in this video. We're going to go through how we can fine-tune a Q&A Transformer model in Python.\n",
      "So I think it's really interesting and I think you will enjoy it a lot. So let's just go ahead and we can get started.\n",
      "Okay, so first thing we need to do is actually download our data.\n",
      "So we're going to be using the SQuAD dataset, which is the Stanford question answering dataset,\n",
      "Metadata:\n",
      "{'video_id': 'ZIRmXkHp0-c', 'title': 'How to Build Custom Q&A Transformer Models in Python', 'url': 'https://youtu.be/ZIRmXkHp0-c'}\n",
      "----------------------------------------\n",
      "Score:\n",
      "0.8120699974472455\n",
      "Document:\n",
      "Hi and welcome to the video. Today we're going to go through how we can fine-tune a Q&A Transformer model.\n",
      "So for those of you that don't know, Q&A just means question answering and it's one of the biggest topics in NLP at the moment.\n",
      "There's a lot of models out there where you ask a question and it will give you an answer.\n",
      "And one of the biggest things that you need to know how to do when you are working with transformers,\n",
      "whether that's Q&A or any of the other transformer based solutions, is how to actually fine-tune those.\n",
      "So that's what we're going to be doing in this video. We're going to go through how we can fine-tune a Q&A Transformer model in Python.\n",
      "So I think it's really interesting and I think you will enjoy it a lot. So let's just go ahead and we can get started.\n",
      "Okay, so first thing we need to do is actually download our data.\n",
      "So we're going to be using the SQuAD dataset, which is the Stanford question answering dataset,\n",
      "Metadata:\n",
      "{'video_id': 'ZIRmXkHp0-c', 'title': 'How to Build Custom Q&A Transformer Models in Python', 'url': 'https://youtu.be/ZIRmXkHp0-c'}\n",
      "----------------------------------------\n"
     ]
    }
   ],
   "source": [
    "print_similarities(docs_with_score)"
   ]
  },
  {
   "cell_type": "code",
   "execution_count": 15,
   "id": "5e3e4045-9a72-47b4-83ac-da84ef051994",
   "metadata": {},
   "outputs": [
    {
     "data": {
      "image/jpeg": "[encoded data removed]",
      "text/html": [
       "\n",
       "        <iframe\n",
       "            width=\"400\"\n",
       "            height=\"300\"\n",
       "            src=\"https://www.youtube.com/embed/ZIRmXkHp0-c\"\n",
       "            frameborder=\"0\"\n",
       "            allowfullscreen\n",
       "            \n",
       "        ></iframe>\n",
       "        "
      ],
      "text/plain": [
       "<IPython.lib.display.YouTubeVideo at 0x25a1dac8550>"
      ]
     },
     "execution_count": 15,
     "metadata": {},
     "output_type": "execute_result"
    }
   ],
   "source": [
    "display_yt_video(docs_with_score)"
   ]
  },
  {
   "cell_type": "markdown",
   "id": "ab70e78b-ef97-45e3-b6f3-2f0619fb4878",
   "metadata": {},
   "source": [
    "### Test 2: hate speach search"
   ]
  },
  {
   "cell_type": "code",
   "execution_count": 16,
   "id": "01e90bec-0d08-4b82-bd0a-fe4b0d3c9318",
   "metadata": {},
   "outputs": [],
   "source": [
    "# we formulate this prompt based on the video title \"How-to do Sentiment Analysis with Flair in Python\"\n",
    "query = \"How to detect hate speach?\"\n",
    "docs_with_score = db.similarity_search_with_score(query) # k is the max number of matches"
   ]
  },
  {
   "cell_type": "code",
   "execution_count": 17,
   "id": "547fdd14-63f1-4feb-ad5c-08890ac37943",
   "metadata": {},
   "outputs": [
    {
     "name": "stdout",
     "output_type": "stream",
     "text": [
      "Score:\n",
      "0.8401023139772001\n",
      "Document:\n",
      "Which is a sentiment data set based on the IMDB Movery reviews.\n",
      "So you can find the same data set over here.\n",
      "OK, so sentiment analysis on Movery reviews data set.\n",
      "So it's from Rotten Tomatoes.\n",
      "You can just scroll down and we have the training data and test data here.\n",
      "I'm just going to use the test data and build a test data set.\n",
      "I'm just going to use the test data, but we can use either.\n",
      "We're just going to be making predictions based on the phrase here.\n",
      "So we need to read in our data.\n",
      "So it's going to read it in as if it were a CSV file.\n",
      "And we will just pass a tab as our separator,\n",
      "because we are actually working with a tab separated file.\n",
      "OK, so here it's actually a CSV, not CSV.\n",
      "OK, so the first thing you'll notice is that we actually have duplicates of the same phrase.\n",
      "That is actually just how this data set is.\n",
      "It just contains the full phrase initially.\n",
      "So this first entry here is the full phrase.\n",
      "And then all of these following are actually parts of that phrase.\n",
      "Metadata:\n",
      "{'video_id': 'DFtP1THE8fE', 'title': 'How-to do Sentiment Analysis with Flair in Python', 'url': 'https://youtu.be/DFtP1THE8fE'}\n",
      "----------------------------------------\n",
      "Score:\n",
      "0.8401023139772001\n",
      "Document:\n",
      "Which is a sentiment data set based on the IMDB Movery reviews.\n",
      "So you can find the same data set over here.\n",
      "OK, so sentiment analysis on Movery reviews data set.\n",
      "So it's from Rotten Tomatoes.\n",
      "You can just scroll down and we have the training data and test data here.\n",
      "I'm just going to use the test data and build a test data set.\n",
      "I'm just going to use the test data, but we can use either.\n",
      "We're just going to be making predictions based on the phrase here.\n",
      "So we need to read in our data.\n",
      "So it's going to read it in as if it were a CSV file.\n",
      "And we will just pass a tab as our separator,\n",
      "because we are actually working with a tab separated file.\n",
      "OK, so here it's actually a CSV, not CSV.\n",
      "OK, so the first thing you'll notice is that we actually have duplicates of the same phrase.\n",
      "That is actually just how this data set is.\n",
      "It just contains the full phrase initially.\n",
      "So this first entry here is the full phrase.\n",
      "And then all of these following are actually parts of that phrase.\n",
      "Metadata:\n",
      "{'video_id': 'DFtP1THE8fE', 'title': 'How-to do Sentiment Analysis with Flair in Python', 'url': 'https://youtu.be/DFtP1THE8fE'}\n",
      "----------------------------------------\n",
      "Score:\n",
      "0.8401023139772001\n",
      "Document:\n",
      "Which is a sentiment data set based on the IMDB Movery reviews.\n",
      "So you can find the same data set over here.\n",
      "OK, so sentiment analysis on Movery reviews data set.\n",
      "So it's from Rotten Tomatoes.\n",
      "You can just scroll down and we have the training data and test data here.\n",
      "I'm just going to use the test data and build a test data set.\n",
      "I'm just going to use the test data, but we can use either.\n",
      "We're just going to be making predictions based on the phrase here.\n",
      "So we need to read in our data.\n",
      "So it's going to read it in as if it were a CSV file.\n",
      "And we will just pass a tab as our separator,\n",
      "because we are actually working with a tab separated file.\n",
      "OK, so here it's actually a CSV, not CSV.\n",
      "OK, so the first thing you'll notice is that we actually have duplicates of the same phrase.\n",
      "That is actually just how this data set is.\n",
      "It just contains the full phrase initially.\n",
      "So this first entry here is the full phrase.\n",
      "And then all of these following are actually parts of that phrase.\n",
      "Metadata:\n",
      "{'video_id': 'DFtP1THE8fE', 'title': 'How-to do Sentiment Analysis with Flair in Python', 'url': 'https://youtu.be/DFtP1THE8fE'}\n",
      "----------------------------------------\n",
      "Score:\n",
      "0.8401023139772001\n",
      "Document:\n",
      "Which is a sentiment data set based on the IMDB Movery reviews.\n",
      "So you can find the same data set over here.\n",
      "OK, so sentiment analysis on Movery reviews data set.\n",
      "So it's from Rotten Tomatoes.\n",
      "You can just scroll down and we have the training data and test data here.\n",
      "I'm just going to use the test data and build a test data set.\n",
      "I'm just going to use the test data, but we can use either.\n",
      "We're just going to be making predictions based on the phrase here.\n",
      "So we need to read in our data.\n",
      "So it's going to read it in as if it were a CSV file.\n",
      "And we will just pass a tab as our separator,\n",
      "because we are actually working with a tab separated file.\n",
      "OK, so here it's actually a CSV, not CSV.\n",
      "OK, so the first thing you'll notice is that we actually have duplicates of the same phrase.\n",
      "That is actually just how this data set is.\n",
      "It just contains the full phrase initially.\n",
      "So this first entry here is the full phrase.\n",
      "And then all of these following are actually parts of that phrase.\n",
      "Metadata:\n",
      "{'video_id': 'DFtP1THE8fE', 'title': 'How-to do Sentiment Analysis with Flair in Python', 'url': 'https://youtu.be/DFtP1THE8fE'}\n",
      "----------------------------------------\n"
     ]
    }
   ],
   "source": [
    "print_similarities(docs_with_score)"
   ]
  },
  {
   "cell_type": "code",
   "execution_count": 18,
   "id": "f267fadc-42d8-49a0-a472-2498ae104efb",
   "metadata": {},
   "outputs": [
    {
     "data": {
      "image/jpeg": "[encoded data removed]",
      "text/html": [
       "\n",
       "        <iframe\n",
       "            width=\"400\"\n",
       "            height=\"300\"\n",
       "            src=\"https://www.youtube.com/embed/DFtP1THE8fE\"\n",
       "            frameborder=\"0\"\n",
       "            allowfullscreen\n",
       "            \n",
       "        ></iframe>\n",
       "        "
      ],
      "text/plain": [
       "<IPython.lib.display.YouTubeVideo at 0x25a525500d0>"
      ]
     },
     "execution_count": 18,
     "metadata": {},
     "output_type": "execute_result"
    }
   ],
   "source": [
    "display_yt_video(docs_with_score)"
   ]
  },
  {
   "cell_type": "markdown",
   "id": "c042fa09-b2d4-48fb-ab4f-0552bf0c79b7",
   "metadata": {},
   "source": [
    "## Conclusion\n",
    "\n",
    "In this notebook, we explored the application of `langchain-iris` to perform Natural Language Processing (NLP) queries on a YouTube audio transcription dataset. The key steps involved data loading, preprocessing, connecting to the vector database, and send prompts to find similar matched stored in the IRIS database.\n",
    "\n",
    "The vectorized documents were stored in the IRIS database, allowing similarity searches based on user queries. Two sample queries were performed to demonstrate the capabilities: \"How to implement a chatbot?\" and \"How to detect hate speech?\". For both tests we got the expected results, i.e, the video title \"How to Build Custom Q&A Transformer Models in Python\" in the first test, and the title \"How-to do Sentiment Analysis with Flair in Python\" in the second test, over the six videos titles in the dataset. Similar matches also are retrieved for other videos, as its transcription also are similar to the topics searched, but with scores that means less similarity with the prompts tested, as expected as well.\n",
    "\n",
    "The notebook also showcased the option to display top-matching YouTube videos based on the queries provides a practical and engaging way to explore and understand the results.\n",
    "\n",
    "Users can further customize and extend this notebook for their specific use cases, incorporating additional queries, dataset manipulations, or exploring different embeddings offered by LangChain."
   ]
  },
  {
   "cell_type": "markdown",
   "id": "83381e78-c987-4532-b121-8b3776be9be2",
   "metadata": {},
   "source": [
    "## References:\n",
    "\n",
    "- https://github.com/lancedb/lancedb/blob/main/docs/src/notebooks/youtube_transcript_search.ipynb\n",
    "- https://github.com/caretdev/langchain-iris/blob/main/demo.ipynb\n",
    "- https://huggingface.co/docs/datasets/loading\n",
    "- https://python.langchain.com/docs/integrations/document_loaders/copypaste\n",
    "- https://python.langchain.com/docs/integrations/document_loaders/pandas_dataframe\n",
    "- https://python.langchain.com/docs/modules/data_connection/document_transformers/recursive_text_splitter"
   ]
  }
 ],
 "metadata": {
  "kernelspec": {
   "display_name": "Python 3 (ipykernel)",
   "language": "python",
   "name": "python3"
  },
  "language_info": {
   "codemirror_mode": {
    "name": "ipython",
    "version": 3
   },
   "file_extension": ".py",
   "mimetype": "text/x-python",
   "name": "python",
   "nbconvert_exporter": "python",
   "pygments_lexer": "ipython3",
   "version": "3.10.10"
  }
 },
 "nbformat": 4,
 "nbformat_minor": 5
}
